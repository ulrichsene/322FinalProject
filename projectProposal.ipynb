{
 "cells": [
  {
   "cell_type": "code",
   "execution_count": null,
   "metadata": {},
   "outputs": [],
   "source": [
    "##############################################\n",
    "# Programmer: Hannah Horn, Eva Ulrichsen\n",
    "# Class: CPSC 322-01 Fall 2024\n",
    "# Programming Assignment #final project\n",
    "# 12/9/24\n",
    "# I did not attempt the bonus\n",
    "# Description: This notebook goes over the background and initial project information.\n",
    "#########################"
   ]
  },
  {
   "cell_type": "markdown",
   "metadata": {},
   "source": [
    "# Diabetes Prediciton Classifier\n",
    "\n",
    "#### Eva Ulrichsen, Hannah Horn"
   ]
  },
  {
   "cell_type": "markdown",
   "metadata": {},
   "source": [
    "### Dataset Description"
   ]
  },
  {
   "cell_type": "markdown",
   "metadata": {},
   "source": [
    "This dataset originated from Kaggle and is a collection of medical and demographic data from patients, along with their diabetes status (positive or negative).\n",
    "\n",
    "The data includes features such as age, gender, body mass index (BMI), hypertension, heart disease, smoking history, HbA1c level, and blood glucose level.\n",
    "\n",
    "We will use these various attributes to predict if a patient will be diagnosed with diabetes. "
   ]
  },
  {
   "cell_type": "markdown",
   "metadata": {},
   "source": [
    "### Implementaion and Technical Merit"
   ]
  },
  {
   "cell_type": "markdown",
   "metadata": {},
   "source": [
    "One anticipated challenge is how we will deal with the smoking history column. 36% of its rows have \"No Info\" and there seem to a wide range of responses with the Other various responses consituting 29% of the rows. \n",
    "\n",
    "We don't have a large number of attributes so we don't think that feature selection will a major role. \n",
    "\n",
    "Another important thing to note is that this dataset doesn't specify if a patient was positive for Type 1 or Type 2 diabetes, it just provides an overarching diabetes diagnosis. This will be important to remember when making conclusions about this model. "
   ]
  },
  {
   "cell_type": "markdown",
   "metadata": {},
   "source": [
    "### Potential Impact of Results"
   ]
  },
  {
   "cell_type": "markdown",
   "metadata": {},
   "source": [
    "The results of this model are useful because it's important to be able to predict if a patient is likely to be diagnosed with diabetes given their medical history so a doctor can take the right steps with that information. \n",
    "\n",
    "The stakeholders that would be most interested in these results are medical professionals such as doctors, nurses, patients, as well as insurance providers. "
   ]
  }
 ],
 "metadata": {
  "kernelspec": {
   "display_name": "base",
   "language": "python",
   "name": "python3"
  },
  "language_info": {
   "name": "python",
   "version": "3.12.4"
  }
 },
 "nbformat": 4,
 "nbformat_minor": 2
}

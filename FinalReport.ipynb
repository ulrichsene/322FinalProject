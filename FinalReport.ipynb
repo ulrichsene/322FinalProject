{
 "cells": [
  {
   "cell_type": "markdown",
   "metadata": {},
   "source": [
    "# Diabetes Prediciton Classifier\n",
    "\n",
    "#### Eva Ulrichsen, Hannah Horn\n",
    "##### CPSC 322, Fall 2024"
   ]
  },
  {
   "cell_type": "markdown",
   "metadata": {},
   "source": [
    "## Introduction"
   ]
  },
  {
   "cell_type": "markdown",
   "metadata": {},
   "source": [
    "**Dataset Description:**\n",
    "This dataset originated from Kaggle and is a collection of medical and demographic data from patients, along with their diabetes status (positive or negative).\n",
    "\n",
    "The data includes features such as age, gender, body mass index (BMI), hypertension, heart disease, smoking history, HbA1c level, and blood glucose level.\n",
    "\n",
    "`Classification Task:` We will use these various attributes to predict if a patient will be diagnosed with diabetes.\n",
    "\n",
    "TODO: briefly describe your findings (e.g. what classifier approach perfomred the best.)"
   ]
  },
  {
   "cell_type": "markdown",
   "metadata": {},
   "source": [
    "## Data Analysis"
   ]
  },
  {
   "cell_type": "markdown",
   "metadata": {},
   "source": [
    "**Details about Dataset:**\n",
    "Attribute & Attribute Types\n",
    "- `Gender (categorical):` the biological sex of the individual, which can have an impact on their susceptibility to diabetes. There are three categories in it male ,female and other.\n",
    "- `Age (continuous):` Age is an important factor as diabetes, especially Type 2, is more commonly diagnosed in older adults. The data ranges from 0.08 - 80. \n",
    "- `Hypertension (categorical):` a medical condition in which the blood pressure in the arteries is persistently elevated. It has values a 0 or 1 where 0 indicates they don’t have hypertension and for 1 it means they have hypertension.\n",
    "- `Heart Disease (categorical):` another medical condition that is associated with an increased risk of developing diabetes. It has values a 0 or 1 where 0 indicates they don’t have heart disease and for 1 it means they have heart disease.\n",
    "- `Smoking History (categorical):` considered a risk factor for diabetes and can exacerbate the complications associated with diabetes.In our dataset we have 4 categories i.e not current,former,current,never and ever.\n",
    "- `Body Mass Index (continuous):` measure of body fat based on weight and height. Higher BMI values are linked to a higher risk of diabetes. The range of BMI in the dataset is from 10.16 to 71.55.\n",
    "- `Hemoglobin A1c (continuous):` measure of a person's average blood sugar level over the past 2-3 months. Higher levels indicate a greater risk of developing diabetes. The range of A1c is from 3.5 to 0. \n",
    "- `Blood Glucose level (continuous):` amount of glucose in the bloodstream at a given time. High blood glucose levels are a key indicator of diabetes. the range is from 80 to 300. \n",
    "\n",
    "**Data Cleaning**\n",
    "Our original dataset was ~100,000 instances which after removing the rows that had no info for the smoking attribute we had ~64,000 instances. Since we weren't able to efficiently load this in our Jupyter Notebook, we randomly downsampled to include 1000 instances for the no diabetes class and 1000 instances for the diabetes class. "
   ]
  },
  {
   "cell_type": "markdown",
   "metadata": {},
   "source": []
  },
  {
   "cell_type": "markdown",
   "metadata": {},
   "source": []
  }
 ],
 "metadata": {
  "language_info": {
   "name": "python"
  }
 },
 "nbformat": 4,
 "nbformat_minor": 2
}

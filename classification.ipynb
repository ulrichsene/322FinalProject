{
 "cells": [
  {
   "cell_type": "code",
   "execution_count": 115,
   "metadata": {},
   "outputs": [],
   "source": [
    "##############################################\n",
    "# Programmer: Hannah Horn, Eva Ulrichsen\n",
    "# Class: CPSC 322-01 Fall 2024\n",
    "# Programming Assignment #final project\n",
    "# 12/9/24\n",
    "# I did not attempt the bonus\n",
    "# Description: This notebook visualizes classifier performance\n",
    "#########################"
   ]
  },
  {
   "cell_type": "code",
   "execution_count": 106,
   "metadata": {},
   "outputs": [],
   "source": [
    "# some useful mysklearn package import statements and reloads\n",
    "import importlib\n",
    "import pickle\n",
    "\n",
    "import mysklearn.utils\n",
    "importlib.reload(mysklearn.utils)\n",
    "from mysklearn import utils\n",
    "\n",
    "import mysklearn.mypytable\n",
    "importlib.reload(mysklearn.mypytable)\n",
    "from mysklearn.mypytable import MyPyTable \n",
    "\n",
    "import mysklearn.myclassifiers\n",
    "importlib.reload(mysklearn.myclassifiers)\n",
    "from mysklearn.myclassifiers import MyKNeighborsClassifier, MyDummyClassifier, MyNaiveBayesClassifier, MyDecisionTreeClassifier, MyRandomForestClassifier\n",
    "\n",
    "import mysklearn.myevaluation\n",
    "importlib.reload(mysklearn.myevaluation)\n",
    "import mysklearn.myevaluation as myevaluation"
   ]
  },
  {
   "cell_type": "markdown",
   "metadata": {},
   "source": [
    "## Load Cleaned Diabetes Dataset"
   ]
  },
  {
   "cell_type": "code",
   "execution_count": 107,
   "metadata": {},
   "outputs": [
    {
     "data": {
      "text/plain": [
       "<mysklearn.mypytable.MyPyTable at 0xffff54e6b740>"
      ]
     },
     "execution_count": 107,
     "metadata": {},
     "output_type": "execute_result"
    }
   ],
   "source": [
    "pre_diabetes_dataset = MyPyTable()\n",
    "pre_diabetes_dataset.load_from_file(\"output_data/cleaned_diabetes_data.csv\")"
   ]
  },
  {
   "cell_type": "markdown",
   "metadata": {},
   "source": [
    "## Minimize Diabetes Dataset with Random Subsampling"
   ]
  },
  {
   "cell_type": "code",
   "execution_count": 108,
   "metadata": {},
   "outputs": [],
   "source": [
    "pre_diabetes_dataset.random_subsample_classes(\"output_data/diabetes_minimize.csv\", \"diabetes\", 1000)"
   ]
  },
  {
   "cell_type": "markdown",
   "metadata": {},
   "source": [
    "# Load Smaller Dataset into MyPyTable"
   ]
  },
  {
   "cell_type": "code",
   "execution_count": 109,
   "metadata": {},
   "outputs": [
    {
     "data": {
      "text/plain": [
       "<mysklearn.mypytable.MyPyTable at 0xffff52d462d0>"
      ]
     },
     "execution_count": 109,
     "metadata": {},
     "output_type": "execute_result"
    }
   ],
   "source": [
    "diabetes_dataset = MyPyTable()\n",
    "diabetes_dataset.load_from_file(\"output_data/diabetes_minimize.csv\")"
   ]
  },
  {
   "cell_type": "markdown",
   "metadata": {},
   "source": [
    "# KNN Classifier"
   ]
  },
  {
   "cell_type": "code",
   "execution_count": 110,
   "metadata": {},
   "outputs": [
    {
     "name": "stdout",
     "output_type": "stream",
     "text": [
      "========================================================\n",
      "10-Fold Cross Validation Results for KNN Classifier\n",
      "========================================================\n",
      "Accuracy = 0.87, error rate = 0.13\n",
      "Precision = 0.88\n",
      "Recall = 0.87\n",
      "F1 Measure = 0.87\n",
      "\n",
      "Confusion Matrix:\n",
      "  Actual Class    0.0    1.0    Total    Recognition (%)\n",
      "--------------  -----  -----  -------  -----------------\n",
      "           0.0    880    120     1000               88.0\n",
      "           1.0    133    867     1000               86.7\n"
     ]
    }
   ],
   "source": [
    "X, y = utils.prepare_mixed_data()\n",
    "knn_classifier = MyKNeighborsClassifier(n_neighbors = 3, categorical = [False, False, False, True, True, True])\n",
    "\n",
    "print(\"========================================================\")\n",
    "print(\"10-Fold Cross Validation Results for KNN Classifier\")\n",
    "print(\"========================================================\")\n",
    "results = utils.evaluate_classifier(X, y, knn_classifier)\n",
    "\n",
    "# save the trained model using pickle\n",
    "with open(\"knn_model.p\", \"wb\") as model_file:\n",
    "    pickle.dump(knn_classifier, model_file)\n",
    "\n",
    "# print(\"Model saved successfully.\")"
   ]
  },
  {
   "cell_type": "markdown",
   "metadata": {},
   "source": [
    "# Dummy Classifier"
   ]
  },
  {
   "cell_type": "code",
   "execution_count": 111,
   "metadata": {},
   "outputs": [
    {
     "name": "stdout",
     "output_type": "stream",
     "text": [
      "========================================================\n",
      "10-Fold Cross Validation Results for Dummy Classifier\n",
      "========================================================\n",
      "Accuracy = 0.50, error rate = 0.50\n",
      "Precision = 0.00\n",
      "Recall = 0.00\n",
      "F1 Measure = 0.00\n",
      "\n",
      "Confusion Matrix:\n",
      "  Actual Class    0.0    1.0    Total    Recognition (%)\n",
      "--------------  -----  -----  -------  -----------------\n",
      "           0.0   1000      0     1000              100.0\n",
      "           1.0   1000      0     1000                0.0\n"
     ]
    }
   ],
   "source": [
    "X, y = utils.prepare_mixed_data()\n",
    "dummy_classifier = MyDummyClassifier()\n",
    "\n",
    "print(\"========================================================\")\n",
    "print(\"10-Fold Cross Validation Results for Dummy Classifier\")\n",
    "print(\"========================================================\")\n",
    "results = utils.evaluate_classifier(X, y, dummy_classifier)"
   ]
  },
  {
   "cell_type": "markdown",
   "metadata": {},
   "source": [
    "# Naive Bayes Classifier"
   ]
  },
  {
   "cell_type": "code",
   "execution_count": 112,
   "metadata": {},
   "outputs": [
    {
     "name": "stdout",
     "output_type": "stream",
     "text": [
      "========================================================\n",
      "10-Fold Cross Validation Results for Naive Bayes Classifier\n",
      "========================================================\n",
      "Accuracy = 0.90, error rate = 0.10\n",
      "Precision = 0.89\n",
      "Recall = 0.90\n",
      "F1 Measure = 0.90\n",
      "\n",
      "Confusion Matrix:\n",
      "  Actual Class    0.0    1.0    Total    Recognition (%)\n",
      "--------------  -----  -----  -------  -----------------\n",
      "           0.0    892    108     1000               89.2\n",
      "           1.0    102    898     1000               89.8\n"
     ]
    }
   ],
   "source": [
    "X, y = utils.prepare_mixed_data()\n",
    "naive_bayes_classifier = MyNaiveBayesClassifier()\n",
    "\n",
    "print(\"========================================================\")\n",
    "print(\"10-Fold Cross Validation Results for Naive Bayes Classifier\")\n",
    "print(\"========================================================\")\n",
    "results = utils.evaluate_classifier(X, y, naive_bayes_classifier)"
   ]
  },
  {
   "cell_type": "markdown",
   "metadata": {},
   "source": [
    "# Decision Tree Classifier"
   ]
  },
  {
   "cell_type": "code",
   "execution_count": 113,
   "metadata": {},
   "outputs": [
    {
     "name": "stdout",
     "output_type": "stream",
     "text": [
      "========================================================\n",
      "10-Fold Cross Validation Results for Decision Tree Classifier\n",
      "========================================================\n",
      "Accuracy = 0.77, error rate = 0.23\n",
      "Precision = 0.86\n",
      "Recall = 0.64\n",
      "F1 Measure = 0.74\n",
      "\n",
      "Confusion Matrix:\n",
      "  Actual Class    0.0    1.0    Total    Recognition (%)\n",
      "--------------  -----  -----  -------  -----------------\n",
      "           0.0    897    103     1000               89.7\n",
      "           1.0    359    641     1000               64.1\n"
     ]
    }
   ],
   "source": [
    "X, y = utils.prepare_mixed_data()\n",
    "decision_tree_classifier = MyDecisionTreeClassifier()\n",
    "\n",
    "print(\"========================================================\")\n",
    "print(\"10-Fold Cross Validation Results for Decision Tree Classifier\")\n",
    "print(\"========================================================\")\n",
    "results = utils.evaluate_classifier(X, y, decision_tree_classifier)\n",
    "# print decision trees"
   ]
  },
  {
   "cell_type": "markdown",
   "metadata": {},
   "source": [
    "# Random Forest Classifier"
   ]
  },
  {
   "cell_type": "code",
   "execution_count": 114,
   "metadata": {},
   "outputs": [
    {
     "name": "stdout",
     "output_type": "stream",
     "text": [
      "============================================================================\n",
      "10-Fold Cross Validation Results for Random Forest Decision Tree Classifier\n",
      "============================================================================\n",
      "Accuracy = 0.86, error rate = 0.14\n",
      "Precision = 0.88\n",
      "Recall = 0.83\n",
      "F1 Measure = 0.85\n",
      "\n",
      "Confusion Matrix:\n",
      "  Actual Class    0.0    1.0    Total    Recognition (%)\n",
      "--------------  -----  -----  -------  -----------------\n",
      "           0.0    890    110     1000               89.0\n",
      "           1.0    173    827     1000               82.7\n"
     ]
    }
   ],
   "source": [
    "X, y = utils.prepare_mixed_data()\n",
    "random_forest_decision_tree_classifier = MyRandomForestClassifier(N=10, M=5,F=3)\n",
    "\n",
    "print(\"============================================================================\")\n",
    "print(\"10-Fold Cross Validation Results for Random Forest Decision Tree Classifier\")\n",
    "print(\"============================================================================\")\n",
    "results = utils.evaluate_classifier(X, y, random_forest_decision_tree_classifier)"
   ]
  }
 ],
 "metadata": {
  "kernelspec": {
   "display_name": "base",
   "language": "python",
   "name": "python3"
  },
  "language_info": {
   "codemirror_mode": {
    "name": "ipython",
    "version": 3
   },
   "file_extension": ".py",
   "mimetype": "text/x-python",
   "name": "python",
   "nbconvert_exporter": "python",
   "pygments_lexer": "ipython3",
   "version": "3.12.4"
  }
 },
 "nbformat": 4,
 "nbformat_minor": 2
}

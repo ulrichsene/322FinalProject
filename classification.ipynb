{
 "cells": [
  {
   "cell_type": "code",
   "execution_count": 94,
   "metadata": {},
   "outputs": [],
   "source": [
    "# some useful mysklearn package import statements and reloads\n",
    "import importlib\n",
    "import pickle\n",
    "\n",
    "import mysklearn.utils\n",
    "importlib.reload(mysklearn.utils)\n",
    "from mysklearn import utils\n",
    "\n",
    "import mysklearn.mypytable\n",
    "importlib.reload(mysklearn.mypytable)\n",
    "from mysklearn.mypytable import MyPyTable \n",
    "\n",
    "import mysklearn.myclassifiers\n",
    "importlib.reload(mysklearn.myclassifiers)\n",
    "from mysklearn.myclassifiers import MyKNeighborsClassifier, MyDummyClassifier, MyNaiveBayesClassifier, MyDecisionTreeClassifier, MyRandomForestClassifier\n",
    "\n",
    "import mysklearn.myevaluation\n",
    "importlib.reload(mysklearn.myevaluation)\n",
    "import mysklearn.myevaluation as myevaluation"
   ]
  },
  {
   "cell_type": "markdown",
   "metadata": {},
   "source": [
    "## Load Cleaned Diabetes Dataset"
   ]
  },
  {
   "cell_type": "code",
   "execution_count": 95,
   "metadata": {},
   "outputs": [
    {
     "data": {
      "text/plain": [
       "<mysklearn.mypytable.MyPyTable at 0xffff56e624b0>"
      ]
     },
     "execution_count": 95,
     "metadata": {},
     "output_type": "execute_result"
    }
   ],
   "source": [
    "pre_diabetes_dataset = MyPyTable()\n",
    "pre_diabetes_dataset.load_from_file(\"output_data/cleaned_diabetes_data.csv\")"
   ]
  },
  {
   "cell_type": "markdown",
   "metadata": {},
   "source": [
    "## Minimize Diabetes Dataset with Random Subsampling"
   ]
  },
  {
   "cell_type": "code",
   "execution_count": 96,
   "metadata": {},
   "outputs": [],
   "source": [
    "pre_diabetes_dataset.random_subsample_classes(\"output_data/diabetes_minimize.csv\", \"diabetes\", 1000)"
   ]
  },
  {
   "cell_type": "markdown",
   "metadata": {},
   "source": [
    "# Load Smaller Dataset into MyPyTable"
   ]
  },
  {
   "cell_type": "code",
   "execution_count": 97,
   "metadata": {},
   "outputs": [],
   "source": [
    "diabetes_dataset = MyPyTable()\n",
    "diabetes_dataset.load_from_file(\"output_data/diabetes_minimize.csv\")\n",
    "instance = [39.0, 6.0, 300, 0.0, 0.0]\n"
   ]
  },
  {
   "cell_type": "markdown",
   "metadata": {},
   "source": [
    "# KNN Classifier"
   ]
  },
  {
   "cell_type": "code",
   "execution_count": 98,
   "metadata": {},
   "outputs": [
    {
     "name": "stdout",
     "output_type": "stream",
     "text": [
      "========================================================\n",
      "10-Fold Cross Validation Results for KNN Classifier\n",
      "========================================================\n",
      "Accuracy = 0.84, error rate = 0.16\n",
      "Precision = 0.84\n",
      "Recall = 0.84\n",
      "F1 Measure = 0.84\n",
      "\n",
      "Confusion Matrix:\n",
      "  Actual Class    0.0    1.0    Total    Recognition (%)\n",
      "--------------  -----  -----  -------  -----------------\n",
      "           0.0    838    162     1000               83.8\n",
      "           1.0    156    844     1000               84.4\n",
      "[1.0]\n",
      "Model saved successfully.\n"
     ]
    }
   ],
   "source": [
    "X, y = utils.prepare_mixed_data()\n",
    "knn_classifier = MyKNeighborsClassifier(n_neighbors = 3, categorical = [False, False, False, True, True, True])\n",
    "\n",
    "print(\"========================================================\")\n",
    "print(\"10-Fold Cross Validation Results for KNN Classifier\")\n",
    "print(\"========================================================\")\n",
    "results = utils.evaluate_classifier(X, y, knn_classifier)\n",
    "\n",
    "pred_knn = knn_classifier.predict([instance])\n",
    "print(pred_knn)\n",
    "\n",
    "# save the trained model using pickle\n",
    "with open(\"knn_model.p\", \"wb\") as model_file:\n",
    "    pickle.dump(knn_classifier, model_file)\n",
    "\n",
    "print(\"Model saved successfully.\")"
   ]
  },
  {
   "cell_type": "markdown",
   "metadata": {},
   "source": [
    "# Dummy Classifier"
   ]
  },
  {
   "cell_type": "code",
   "execution_count": 99,
   "metadata": {},
   "outputs": [
    {
     "name": "stdout",
     "output_type": "stream",
     "text": [
      "========================================================\n",
      "10-Fold Cross Validation Results for Dummy Classifier\n",
      "========================================================\n",
      "Accuracy = 0.50, error rate = 0.50\n",
      "Precision = 0.00\n",
      "Recall = 0.00\n",
      "F1 Measure = 0.00\n",
      "\n",
      "Confusion Matrix:\n",
      "  Actual Class    0.0    1.0    Total    Recognition (%)\n",
      "--------------  -----  -----  -------  -----------------\n",
      "           0.0   1000      0     1000              100.0\n",
      "           1.0   1000      0     1000                0.0\n"
     ]
    }
   ],
   "source": [
    "X, y = utils.prepare_mixed_data()\n",
    "dummy_classifier = MyDummyClassifier()\n",
    "\n",
    "print(\"========================================================\")\n",
    "print(\"10-Fold Cross Validation Results for Dummy Classifier\")\n",
    "print(\"========================================================\")\n",
    "results = utils.evaluate_classifier(X, y, dummy_classifier)"
   ]
  },
  {
   "cell_type": "markdown",
   "metadata": {},
   "source": [
    "# Naive Bayes Classifier"
   ]
  },
  {
   "cell_type": "code",
   "execution_count": 100,
   "metadata": {},
   "outputs": [
    {
     "name": "stdout",
     "output_type": "stream",
     "text": [
      "========================================================\n",
      "10-Fold Cross Validation Results for Naive Bayes Classifier\n",
      "========================================================\n",
      "Accuracy = 0.88, error rate = 0.12\n",
      "Precision = 0.88\n",
      "Recall = 0.89\n",
      "F1 Measure = 0.88\n",
      "\n",
      "Confusion Matrix:\n",
      "  Actual Class    0.0    1.0    Total    Recognition (%)\n",
      "--------------  -----  -----  -------  -----------------\n",
      "           0.0    875    125     1000               87.5\n",
      "           1.0    111    889     1000               88.9\n",
      "[0.0]\n"
     ]
    }
   ],
   "source": [
    "X, y = utils.prepare_mixed_data()\n",
    "naive_bayes_classifier = MyNaiveBayesClassifier()\n",
    "\n",
    "print(\"========================================================\")\n",
    "print(\"10-Fold Cross Validation Results for Naive Bayes Classifier\")\n",
    "print(\"========================================================\")\n",
    "results = utils.evaluate_classifier(X, y, naive_bayes_classifier)\n",
    "\n",
    "pred_b = naive_bayes_classifier.predict([instance])\n",
    "print(pred_b)"
   ]
  },
  {
   "cell_type": "markdown",
   "metadata": {},
   "source": [
    "# Decision Tree Classifier"
   ]
  },
  {
   "cell_type": "code",
   "execution_count": 101,
   "metadata": {},
   "outputs": [
    {
     "name": "stdout",
     "output_type": "stream",
     "text": [
      "========================================================\n",
      "10-Fold Cross Validation Results for Decision Tree Classifier\n",
      "========================================================\n",
      "Accuracy = 0.74, error rate = 0.26\n",
      "Precision = 0.82\n",
      "Recall = 0.61\n",
      "F1 Measure = 0.70\n",
      "\n",
      "Confusion Matrix:\n",
      "  Actual Class    0.0    1.0    Total    Recognition (%)\n",
      "--------------  -----  -----  -------  -----------------\n",
      "           0.0    863    137     1000               86.3\n",
      "           1.0    392    608     1000               60.8\n"
     ]
    }
   ],
   "source": [
    "X, y = utils.prepare_mixed_data()\n",
    "decision_tree_classifier = MyDecisionTreeClassifier()\n",
    "\n",
    "print(\"========================================================\")\n",
    "print(\"10-Fold Cross Validation Results for Decision Tree Classifier\")\n",
    "print(\"========================================================\")\n",
    "results = utils.evaluate_classifier(X, y, decision_tree_classifier)\n",
    "# print decision trees"
   ]
  },
  {
   "cell_type": "markdown",
   "metadata": {},
   "source": [
    "# Random Forest Classifier"
   ]
  },
  {
   "cell_type": "code",
   "execution_count": 102,
   "metadata": {},
   "outputs": [
    {
     "name": "stdout",
     "output_type": "stream",
     "text": [
      "============================================================================\n",
      "10-Fold Cross Validation Results for Random Forest Decision Tree Classifier\n",
      "============================================================================\n",
      "Accuracy = 0.81, error rate = 0.19\n",
      "Precision = 0.92\n",
      "Recall = 0.69\n",
      "F1 Measure = 0.78\n",
      "\n",
      "Confusion Matrix:\n",
      "  Actual Class    0.0    1.0    Total    Recognition (%)\n",
      "--------------  -----  -----  -------  -----------------\n",
      "           0.0    938     62     1000               93.8\n",
      "           1.0    314    686     1000               68.6\n",
      "['']\n"
     ]
    }
   ],
   "source": [
    "X, y = utils.prepare_mixed_data()\n",
    "random_forest_decision_tree_classifier = MyRandomForestClassifier(N=10, M=5,F=3)\n",
    "\n",
    "print(\"============================================================================\")\n",
    "print(\"10-Fold Cross Validation Results for Random Forest Decision Tree Classifier\")\n",
    "print(\"============================================================================\")\n",
    "results = utils.evaluate_classifier(X, y, random_forest_decision_tree_classifier)\n",
    "\n",
    "pred2 = random_forest_decision_tree_classifier.predict([instance])\n",
    "print(pred2)"
   ]
  }
 ],
 "metadata": {
  "kernelspec": {
   "display_name": "base",
   "language": "python",
   "name": "python3"
  },
  "language_info": {
   "codemirror_mode": {
    "name": "ipython",
    "version": 3
   },
   "file_extension": ".py",
   "mimetype": "text/x-python",
   "name": "python",
   "nbconvert_exporter": "python",
   "pygments_lexer": "ipython3",
   "version": "3.12.4"
  }
 },
 "nbformat": 4,
 "nbformat_minor": 2
}

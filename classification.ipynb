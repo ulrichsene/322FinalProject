{
 "cells": [
  {
   "cell_type": "code",
   "execution_count": 24,
   "metadata": {},
   "outputs": [],
   "source": [
    "# some useful mysklearn package import statements and reloads\n",
    "import importlib\n",
    "\n",
    "import mysklearn.utils\n",
    "importlib.reload(mysklearn.utils)\n",
    "from mysklearn import utils\n",
    "\n",
    "import mysklearn.mypytable\n",
    "importlib.reload(mysklearn.mypytable)\n",
    "from mysklearn.mypytable import MyPyTable \n",
    "\n",
    "import mysklearn.myclassifiers\n",
    "importlib.reload(mysklearn.myclassifiers)\n",
    "from mysklearn.myclassifiers import MyKNeighborsClassifier, MyDummyClassifier, MyNaiveBayesClassifier, MyDecisionTreeClassifier\n",
    "\n",
    "import mysklearn.myevaluation\n",
    "importlib.reload(mysklearn.myevaluation)\n",
    "import mysklearn.myevaluation as myevaluation"
   ]
  },
  {
   "cell_type": "markdown",
   "metadata": {},
   "source": [
    "## Load Cleaned Diabetes Dataset"
   ]
  },
  {
   "cell_type": "code",
   "execution_count": 25,
   "metadata": {},
   "outputs": [
    {
     "data": {
      "text/plain": [
       "<mysklearn.mypytable.MyPyTable at 0xffff390b8c20>"
      ]
     },
     "execution_count": 25,
     "metadata": {},
     "output_type": "execute_result"
    }
   ],
   "source": [
    "pre_diabetes_dataset = MyPyTable()\n",
    "pre_diabetes_dataset.load_from_file(\"output_data/cleaned_diabetes_data.csv\")"
   ]
  },
  {
   "cell_type": "markdown",
   "metadata": {},
   "source": [
    "## Minimize Diabetes Dataset with Random Subsampling"
   ]
  },
  {
   "cell_type": "code",
   "execution_count": 26,
   "metadata": {},
   "outputs": [],
   "source": [
    "pre_diabetes_dataset.random_subsample_classes(\"output_data/diabetes_minimize.csv\", \"diabetes\", 1000, 1)"
   ]
  },
  {
   "cell_type": "markdown",
   "metadata": {},
   "source": [
    "# Load Smaller Dataset into MyPyTable"
   ]
  },
  {
   "cell_type": "code",
   "execution_count": 27,
   "metadata": {},
   "outputs": [
    {
     "data": {
      "text/plain": [
       "<mysklearn.mypytable.MyPyTable at 0xffff36c663c0>"
      ]
     },
     "execution_count": 27,
     "metadata": {},
     "output_type": "execute_result"
    }
   ],
   "source": [
    "diabetes_dataset = MyPyTable()\n",
    "diabetes_dataset.load_from_file(\"output_data/diabetes_minimize.csv\")"
   ]
  },
  {
   "cell_type": "markdown",
   "metadata": {},
   "source": [
    "# KNN Classifier"
   ]
  },
  {
   "cell_type": "code",
   "execution_count": 28,
   "metadata": {},
   "outputs": [
    {
     "name": "stdout",
     "output_type": "stream",
     "text": [
      "========================================================\n",
      "10-Fold Cross Validation Results for KNN Classifier\n",
      "========================================================\n",
      "Accuracy = 0.82, error rate = 0.18\n",
      "Precision = 0.83\n",
      "Recall = 0.81\n",
      "F1 Measure = 0.82\n",
      "\n",
      "Confusion Matrix:\n",
      "  Actual Class    0.0    1.0    Total    Recognition (%)\n",
      "--------------  -----  -----  -------  -----------------\n",
      "           0.0    830    170     1000               83.0\n",
      "           1.0    187    813     1000               81.3\n"
     ]
    }
   ],
   "source": [
    "X, y = utils.prepare_mixed_data()\n",
    "knn_classifier = MyKNeighborsClassifier(n_neighbors = 3, categorical = [False, False, False, True, True, True, True])\n",
    "\n",
    "print(\"========================================================\")\n",
    "print(\"10-Fold Cross Validation Results for KNN Classifier\")\n",
    "print(\"========================================================\")\n",
    "results = utils.evaluate_classifier(X, y, knn_classifier)\n"
   ]
  },
  {
   "cell_type": "markdown",
   "metadata": {},
   "source": [
    "# Dummy Classifier"
   ]
  },
  {
   "cell_type": "code",
   "execution_count": 29,
   "metadata": {},
   "outputs": [
    {
     "name": "stdout",
     "output_type": "stream",
     "text": [
      "========================================================\n",
      "10-Fold Cross Validation Results for Dummy Classifier\n",
      "========================================================\n",
      "Accuracy = 0.50, error rate = 0.50\n",
      "Precision = 0.00\n",
      "Recall = 0.00\n",
      "F1 Measure = 0.00\n",
      "\n",
      "Confusion Matrix:\n",
      "  Actual Class    0.0    1.0    Total    Recognition (%)\n",
      "--------------  -----  -----  -------  -----------------\n",
      "           0.0   1000      0     1000              100.0\n",
      "           1.0   1000      0     1000                0.0\n"
     ]
    }
   ],
   "source": [
    "X, y = utils.prepare_mixed_data()\n",
    "dummy_classifier = MyDummyClassifier()\n",
    "\n",
    "print(\"========================================================\")\n",
    "print(\"10-Fold Cross Validation Results for Dummy Classifier\")\n",
    "print(\"========================================================\")\n",
    "results = utils.evaluate_classifier(X, y, dummy_classifier)"
   ]
  },
  {
   "cell_type": "markdown",
   "metadata": {},
   "source": [
    "# Naive Bayes Classifier"
   ]
  },
  {
   "cell_type": "code",
   "execution_count": 30,
   "metadata": {},
   "outputs": [
    {
     "name": "stdout",
     "output_type": "stream",
     "text": [
      "========================================================\n",
      "10-Fold Cross Validation Results for Naive Bayes Classifier\n",
      "========================================================\n"
     ]
    },
    {
     "name": "stdout",
     "output_type": "stream",
     "text": [
      "Accuracy = 0.88, error rate = 0.12\n",
      "Precision = 0.88\n",
      "Recall = 0.88\n",
      "F1 Measure = 0.88\n",
      "\n",
      "Confusion Matrix:\n",
      "  Actual Class    0.0    1.0    Total    Recognition (%)\n",
      "--------------  -----  -----  -------  -----------------\n",
      "           0.0    876    124     1000               87.6\n",
      "           1.0    116    884     1000               88.4\n"
     ]
    }
   ],
   "source": [
    "X, y = utils.prepare_mixed_data()\n",
    "naive_bayes_classifier = MyNaiveBayesClassifier()\n",
    "\n",
    "print(\"========================================================\")\n",
    "print(\"10-Fold Cross Validation Results for Naive Bayes Classifier\")\n",
    "print(\"========================================================\")\n",
    "results = utils.evaluate_classifier(X, y, naive_bayes_classifier)"
   ]
  },
  {
   "cell_type": "markdown",
   "metadata": {},
   "source": [
    "# Decision Tree Classifier"
   ]
  },
  {
   "cell_type": "code",
   "execution_count": 31,
   "metadata": {},
   "outputs": [
    {
     "name": "stdout",
     "output_type": "stream",
     "text": [
      "========================================================\n",
      "10-Fold Cross Validation Results for Decision Tree Classifier\n",
      "========================================================\n",
      "Accuracy = 0.79, error rate = 0.21\n",
      "Precision = 0.85\n",
      "Recall = 0.71\n",
      "F1 Measure = 0.78\n",
      "\n",
      "Confusion Matrix:\n",
      "  Actual Class    0.0    1.0    Total    Recognition (%)\n",
      "--------------  -----  -----  -------  -----------------\n",
      "           0.0    878    122     1000               87.8\n",
      "           1.0    289    711     1000               71.1\n"
     ]
    }
   ],
   "source": [
    "X, y = utils.prepare_mixed_data()\n",
    "decision_tree_classifier = MyDecisionTreeClassifier()\n",
    "\n",
    "print(\"========================================================\")\n",
    "print(\"10-Fold Cross Validation Results for Decision Tree Classifier\")\n",
    "print(\"========================================================\")\n",
    "results = utils.evaluate_classifier(X, y, decision_tree_classifier)\n",
    "# print decision trees"
   ]
  }
 ],
 "metadata": {
  "kernelspec": {
   "display_name": "base",
   "language": "python",
   "name": "python3"
  },
  "language_info": {
   "codemirror_mode": {
    "name": "ipython",
    "version": 3
   },
   "file_extension": ".py",
   "mimetype": "text/x-python",
   "name": "python",
   "nbconvert_exporter": "python",
   "pygments_lexer": "ipython3",
   "version": "3.12.4"
  }
 },
 "nbformat": 4,
 "nbformat_minor": 2
}

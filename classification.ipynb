{
 "cells": [
  {
   "cell_type": "code",
   "execution_count": 1,
   "metadata": {},
   "outputs": [],
   "source": [
    "# some useful mysklearn package import statements and reloads\n",
    "import importlib\n",
    "\n",
    "import mysklearn.utils\n",
    "importlib.reload(mysklearn.utils)\n",
    "from mysklearn import utils\n",
    "\n",
    "import mysklearn.mypytable\n",
    "importlib.reload(mysklearn.mypytable)\n",
    "from mysklearn.mypytable import MyPyTable \n",
    "\n",
    "import mysklearn.myclassifiers\n",
    "importlib.reload(mysklearn.myclassifiers)\n",
    "from mysklearn.myclassifiers import MyKNeighborsClassifier, MyDummyClassifier, MyNaiveBayesClassifier, MyDecisionTreeClassifier\n",
    "\n",
    "import mysklearn.myevaluation\n",
    "importlib.reload(mysklearn.myevaluation)\n",
    "import mysklearn.myevaluation as myevaluation"
   ]
  },
  {
   "cell_type": "code",
   "execution_count": 2,
   "metadata": {},
   "outputs": [
    {
     "data": {
      "text/plain": [
       "<mysklearn.mypytable.MyPyTable at 0xffff8d7dd310>"
      ]
     },
     "execution_count": 2,
     "metadata": {},
     "output_type": "execute_result"
    }
   ],
   "source": [
    "pre_diabetes_dataset = MyPyTable()\n",
    "pre_diabetes_dataset.load_from_file(\"output_data/cleaned_diabetes_data.csv\")"
   ]
  },
  {
   "cell_type": "code",
   "execution_count": 3,
   "metadata": {},
   "outputs": [],
   "source": [
    "pre_diabetes_dataset.random_subsample_classes(\"output_data/diabetes_minimize.csv\", \"diabetes\", 1000, 1)"
   ]
  },
  {
   "cell_type": "markdown",
   "metadata": {},
   "source": [
    "# Random Subsample Dataset (minimized for efficiency)"
   ]
  },
  {
   "cell_type": "code",
   "execution_count": 4,
   "metadata": {},
   "outputs": [
    {
     "data": {
      "text/plain": [
       "<mysklearn.mypytable.MyPyTable at 0xffff6058ad50>"
      ]
     },
     "execution_count": 4,
     "metadata": {},
     "output_type": "execute_result"
    }
   ],
   "source": [
    "diabetes_dataset = MyPyTable()\n",
    "diabetes_dataset.load_from_file(\"output_data/diabetes_minimize.csv\")"
   ]
  },
  {
   "cell_type": "code",
   "execution_count": 5,
   "metadata": {},
   "outputs": [
    {
     "name": "stdout",
     "output_type": "stream",
     "text": [
      "========================================================\n",
      "10-Fold Cross Validation Results for KNN Classifier\n",
      "========================================================\n",
      "Accuracy = 0.81, error rate = 0.19\n",
      "Precision = 0.81\n",
      "Recall = 0.82\n",
      "F1 Measure = 0.82\n",
      "\n",
      "Confusion Matrix:\n",
      "  Actual Class    0.0    1.0    Total    Recognition (%)\n",
      "--------------  -----  -----  -------  -----------------\n",
      "           0.0    807    193     1000               80.7\n",
      "           1.0    177    823     1000               82.3\n"
     ]
    }
   ],
   "source": [
    "X, y = utils.prepare_mixed_data()\n",
    "knn_classifier = MyKNeighborsClassifier(n_neighbors = 3, categorical = [False, False, False, True, True, True, True])\n",
    "\n",
    "print(\"========================================================\")\n",
    "print(\"10-Fold Cross Validation Results for KNN Classifier\")\n",
    "print(\"========================================================\")\n",
    "results = utils.evaluate_classifier(X, y, knn_classifier)\n"
   ]
  },
  {
   "cell_type": "code",
   "execution_count": 6,
   "metadata": {},
   "outputs": [
    {
     "name": "stdout",
     "output_type": "stream",
     "text": [
      "========================================================\n",
      "10-Fold Cross Validation Results for Dummy Classifier\n",
      "========================================================\n",
      "Accuracy = 0.50, error rate = 0.50\n",
      "Precision = 0.00\n",
      "Recall = 0.00\n",
      "F1 Measure = 0.00\n",
      "\n",
      "Confusion Matrix:\n",
      "  Actual Class    0.0    1.0    Total    Recognition (%)\n",
      "--------------  -----  -----  -------  -----------------\n",
      "           0.0   1000      0     1000              100.0\n",
      "           1.0   1000      0     1000                0.0\n"
     ]
    }
   ],
   "source": [
    "X, y = utils.prepare_mixed_data()\n",
    "dummy_classifier = MyDummyClassifier()\n",
    "\n",
    "print(\"========================================================\")\n",
    "print(\"10-Fold Cross Validation Results for Dummy Classifier\")\n",
    "print(\"========================================================\")\n",
    "results = utils.evaluate_classifier(X, y, dummy_classifier)"
   ]
  },
  {
   "cell_type": "code",
   "execution_count": 7,
   "metadata": {},
   "outputs": [
    {
     "name": "stdout",
     "output_type": "stream",
     "text": [
      "========================================================\n",
      "10-Fold Cross Validation Results for Naive Bayes Classifier\n",
      "========================================================\n",
      "Accuracy = 0.88, error rate = 0.12\n",
      "Precision = 0.88\n",
      "Recall = 0.88\n",
      "F1 Measure = 0.88\n",
      "\n",
      "Confusion Matrix:\n",
      "  Actual Class    0.0    1.0    Total    Recognition (%)\n",
      "--------------  -----  -----  -------  -----------------\n",
      "           0.0    880    120     1000               88.0\n",
      "           1.0    117    883     1000               88.3\n"
     ]
    }
   ],
   "source": [
    "X, y = utils.prepare_mixed_data()\n",
    "naive_bayes_classifier = MyNaiveBayesClassifier()\n",
    "\n",
    "print(\"========================================================\")\n",
    "print(\"10-Fold Cross Validation Results for Naive Bayes Classifier\")\n",
    "print(\"========================================================\")\n",
    "results = utils.evaluate_classifier(X, y, naive_bayes_classifier)"
   ]
  },
  {
   "cell_type": "code",
   "execution_count": 8,
   "metadata": {},
   "outputs": [
    {
     "name": "stdout",
     "output_type": "stream",
     "text": [
      "========================================================\n",
      "10-Fold Cross Validation Results for Decision Tree Classifier\n",
      "========================================================\n",
      "Accuracy = 0.79, error rate = 0.21\n",
      "Precision = 0.85\n",
      "Recall = 0.70\n",
      "F1 Measure = 0.77\n",
      "\n",
      "Confusion Matrix:\n",
      "  Actual Class    0.0    1.0    Total    Recognition (%)\n",
      "--------------  -----  -----  -------  -----------------\n",
      "           0.0    876    124     1000               87.6\n",
      "           1.0    301    699     1000               69.9\n"
     ]
    }
   ],
   "source": [
    "X, y = utils.prepare_mixed_data()\n",
    "decision_tree_classifier = MyDecisionTreeClassifier()\n",
    "\n",
    "print(\"========================================================\")\n",
    "print(\"10-Fold Cross Validation Results for Decision Tree Classifier\")\n",
    "print(\"========================================================\")\n",
    "results = utils.evaluate_classifier(X, y, decision_tree_classifier)"
   ]
  }
 ],
 "metadata": {
  "kernelspec": {
   "display_name": "base",
   "language": "python",
   "name": "python3"
  },
  "language_info": {
   "codemirror_mode": {
    "name": "ipython",
    "version": 3
   },
   "file_extension": ".py",
   "mimetype": "text/x-python",
   "name": "python",
   "nbconvert_exporter": "python",
   "pygments_lexer": "ipython3",
   "version": "3.12.4"
  }
 },
 "nbformat": 4,
 "nbformat_minor": 2
}

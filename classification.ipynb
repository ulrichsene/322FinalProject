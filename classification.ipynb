{
 "cells": [
  {
   "cell_type": "code",
   "execution_count": 70,
   "metadata": {},
   "outputs": [],
   "source": [
    "# some useful mysklearn package import statements and reloads\n",
    "import importlib\n",
    "import pickle\n",
    "\n",
    "import mysklearn.utils\n",
    "importlib.reload(mysklearn.utils)\n",
    "from mysklearn import utils\n",
    "\n",
    "import mysklearn.mypytable\n",
    "importlib.reload(mysklearn.mypytable)\n",
    "from mysklearn.mypytable import MyPyTable \n",
    "\n",
    "import mysklearn.myclassifiers\n",
    "importlib.reload(mysklearn.myclassifiers)\n",
    "from mysklearn.myclassifiers import MyKNeighborsClassifier, MyDummyClassifier, MyNaiveBayesClassifier, MyDecisionTreeClassifier, MyRandomForestClassifier\n",
    "\n",
    "import mysklearn.myevaluation\n",
    "importlib.reload(mysklearn.myevaluation)\n",
    "import mysklearn.myevaluation as myevaluation"
   ]
  },
  {
   "cell_type": "markdown",
   "metadata": {},
   "source": [
    "## Load Cleaned Diabetes Dataset"
   ]
  },
  {
   "cell_type": "code",
   "execution_count": 71,
   "metadata": {},
   "outputs": [
    {
     "data": {
      "text/plain": [
       "<mysklearn.mypytable.MyPyTable at 0xffff60eeaea0>"
      ]
     },
     "execution_count": 71,
     "metadata": {},
     "output_type": "execute_result"
    }
   ],
   "source": [
    "pre_diabetes_dataset = MyPyTable()\n",
    "pre_diabetes_dataset.load_from_file(\"output_data/cleaned_diabetes_data.csv\")"
   ]
  },
  {
   "cell_type": "markdown",
   "metadata": {},
   "source": [
    "## Minimize Diabetes Dataset with Random Subsampling"
   ]
  },
  {
   "cell_type": "code",
   "execution_count": 72,
   "metadata": {},
   "outputs": [],
   "source": [
    "pre_diabetes_dataset.random_subsample_classes(\"output_data/diabetes_minimize.csv\", \"diabetes\", 1000)"
   ]
  },
  {
   "cell_type": "markdown",
   "metadata": {},
   "source": [
    "# Load Smaller Dataset into MyPyTable"
   ]
  },
  {
   "cell_type": "code",
   "execution_count": 73,
   "metadata": {},
   "outputs": [],
   "source": [
    "diabetes_dataset = MyPyTable()\n",
    "diabetes_dataset.load_from_file(\"output_data/diabetes_minimize.csv\")\n",
    "instance = [39.0, 6.0, 300, \"Female\", 0.0, 0.0]\n"
   ]
  },
  {
   "cell_type": "markdown",
   "metadata": {},
   "source": [
    "# KNN Classifier"
   ]
  },
  {
   "cell_type": "code",
   "execution_count": 74,
   "metadata": {},
   "outputs": [
    {
     "name": "stdout",
     "output_type": "stream",
     "text": [
      "========================================================\n",
      "10-Fold Cross Validation Results for KNN Classifier\n",
      "========================================================\n",
      "Accuracy = 0.85, error rate = 0.15\n",
      "Precision = 0.85\n",
      "Recall = 0.86\n",
      "F1 Measure = 0.85\n",
      "\n",
      "Confusion Matrix:\n",
      "  Actual Class    0.0    1.0    Total    Recognition (%)\n",
      "--------------  -----  -----  -------  -----------------\n",
      "           0.0    848    152     1000               84.8\n",
      "           1.0    144    856     1000               85.6\n",
      "Model saved successfully.\n"
     ]
    }
   ],
   "source": [
    "X, y = utils.prepare_mixed_data()\n",
    "knn_classifier = MyKNeighborsClassifier(n_neighbors = 3, categorical = [False, False, False, True, True, True, True])\n",
    "\n",
    "print(\"========================================================\")\n",
    "print(\"10-Fold Cross Validation Results for KNN Classifier\")\n",
    "print(\"========================================================\")\n",
    "results = utils.evaluate_classifier(X, y, knn_classifier)\n",
    "\n",
    "pred_knn = knn_classifier.predict([instance])\n",
    "print(pred_knn)\n",
    "\n",
    "# save the trained model using pickle\n",
    "with open(\"knn_model.p\", \"wb\") as model_file:\n",
    "    pickle.dump(knn_classifier, model_file)\n",
    "\n",
    "print(\"Model saved successfully.\")"
   ]
  },
  {
   "cell_type": "markdown",
   "metadata": {},
   "source": [
    "# Dummy Classifier"
   ]
  },
  {
   "cell_type": "code",
   "execution_count": 75,
   "metadata": {},
   "outputs": [
    {
     "name": "stdout",
     "output_type": "stream",
     "text": [
      "========================================================\n",
      "10-Fold Cross Validation Results for Dummy Classifier\n",
      "========================================================\n",
      "Accuracy = 0.50, error rate = 0.50\n",
      "Precision = 0.00\n",
      "Recall = 0.00\n",
      "F1 Measure = 0.00\n",
      "\n",
      "Confusion Matrix:\n",
      "  Actual Class    0.0    1.0    Total    Recognition (%)\n",
      "--------------  -----  -----  -------  -----------------\n",
      "           0.0   1000      0     1000              100.0\n",
      "           1.0   1000      0     1000                0.0\n"
     ]
    }
   ],
   "source": [
    "X, y = utils.prepare_mixed_data()\n",
    "dummy_classifier = MyDummyClassifier()\n",
    "\n",
    "print(\"========================================================\")\n",
    "print(\"10-Fold Cross Validation Results for Dummy Classifier\")\n",
    "print(\"========================================================\")\n",
    "results = utils.evaluate_classifier(X, y, dummy_classifier)"
   ]
  },
  {
   "cell_type": "markdown",
   "metadata": {},
   "source": [
    "# Naive Bayes Classifier"
   ]
  },
  {
   "cell_type": "code",
   "execution_count": 83,
   "metadata": {},
   "outputs": [
    {
     "name": "stdout",
     "output_type": "stream",
     "text": [
      "========================================================\n",
      "10-Fold Cross Validation Results for Naive Bayes Classifier\n",
      "========================================================\n",
      "Accuracy = 0.90, error rate = 0.10\n",
      "Precision = 0.90\n",
      "Recall = 0.90\n",
      "F1 Measure = 0.90\n",
      "\n",
      "Confusion Matrix:\n",
      "  Actual Class    0.0    1.0    Total    Recognition (%)\n",
      "--------------  -----  -----  -------  -----------------\n",
      "           0.0    896    104     1000               89.6\n",
      "           1.0    104    896     1000               89.6\n"
     ]
    }
   ],
   "source": [
    "X, y = utils.prepare_mixed_data()\n",
    "naive_bayes_classifier = MyNaiveBayesClassifier()\n",
    "\n",
    "print(\"========================================================\")\n",
    "print(\"10-Fold Cross Validation Results for Naive Bayes Classifier\")\n",
    "print(\"========================================================\")\n",
    "results = utils.evaluate_classifier(X, y, naive_bayes_classifier)\n",
    "\n",
    "pred_b = naive_bayes_classifier.predict([instance])\n",
    "print(pred_b)"
   ]
  },
  {
   "cell_type": "markdown",
   "metadata": {},
   "source": [
    "# Decision Tree Classifier"
   ]
  },
  {
   "cell_type": "code",
   "execution_count": 77,
   "metadata": {},
   "outputs": [
    {
     "name": "stdout",
     "output_type": "stream",
     "text": [
      "========================================================\n",
      "10-Fold Cross Validation Results for Decision Tree Classifier\n",
      "========================================================\n",
      "Accuracy = 0.74, error rate = 0.26\n",
      "Precision = 0.78\n",
      "Recall = 0.68\n",
      "F1 Measure = 0.73\n",
      "\n",
      "Confusion Matrix:\n",
      "  Actual Class    0.0    1.0    Total    Recognition (%)\n",
      "--------------  -----  -----  -------  -----------------\n",
      "           0.0    810    190     1000               81.0\n",
      "           1.0    322    678     1000               67.8\n"
     ]
    }
   ],
   "source": [
    "X, y = utils.prepare_mixed_data()\n",
    "decision_tree_classifier = MyDecisionTreeClassifier()\n",
    "\n",
    "print(\"========================================================\")\n",
    "print(\"10-Fold Cross Validation Results for Decision Tree Classifier\")\n",
    "print(\"========================================================\")\n",
    "results = utils.evaluate_classifier(X, y, decision_tree_classifier)\n",
    "# print decision trees"
   ]
  },
  {
   "cell_type": "markdown",
   "metadata": {},
   "source": [
    "# Random Forest Classifier"
   ]
  },
  {
   "cell_type": "code",
   "execution_count": 78,
   "metadata": {},
   "outputs": [
    {
     "name": "stdout",
     "output_type": "stream",
     "text": [
      "============================================================================\n",
      "10-Fold Cross Validation Results for Random Forest Decision Tree Classifier\n",
      "============================================================================\n",
      "Accuracy = 0.84, error rate = 0.16\n",
      "Precision = 0.93\n",
      "Recall = 0.74\n",
      "F1 Measure = 0.82\n",
      "\n",
      "Confusion Matrix:\n",
      "  Actual Class    0.0    1.0    Total    Recognition (%)\n",
      "--------------  -----  -----  -------  -----------------\n",
      "           0.0    942     58     1000               94.2\n",
      "           1.0    264    736     1000               73.6\n",
      "['']\n"
     ]
    }
   ],
   "source": [
    "X, y = utils.prepare_mixed_data()\n",
    "random_forest_decision_tree_classifier = MyRandomForestClassifier(N=10, M=5,F=3)\n",
    "\n",
    "print(\"============================================================================\")\n",
    "print(\"10-Fold Cross Validation Results for Random Forest Decision Tree Classifier\")\n",
    "print(\"============================================================================\")\n",
    "results = utils.evaluate_classifier(X, y, random_forest_decision_tree_classifier)\n",
    "\n",
    "pred2 = random_forest_decision_tree_classifier.predict([instance])\n",
    "print(pred2)"
   ]
  }
 ],
 "metadata": {
  "kernelspec": {
   "display_name": "base",
   "language": "python",
   "name": "python3"
  },
  "language_info": {
   "codemirror_mode": {
    "name": "ipython",
    "version": 3
   },
   "file_extension": ".py",
   "mimetype": "text/x-python",
   "name": "python",
   "nbconvert_exporter": "python",
   "pygments_lexer": "ipython3",
   "version": "3.12.4"
  }
 },
 "nbformat": 4,
 "nbformat_minor": 2
}
